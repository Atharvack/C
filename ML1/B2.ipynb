{
  "nbformat": 4,
  "nbformat_minor": 0,
  "metadata": {
    "colab": {
      "provenance": [],
      "collapsed_sections": []
    },
    "kernelspec": {
      "name": "python3",
      "display_name": "Python 3"
    },
    "language_info": {
      "name": "python"
    }
  },
  "cells": [
    {
      "cell_type": "code",
      "execution_count": null,
      "metadata": {
        "id": "5XhKYztMlFCW"
      },
      "outputs": [],
      "source": [
        "#Classify the email using the binary classification method.Email spam detection has two state \n",
        "#a) Normal State - Not spam b)Abnormal State-Spam .\n",
        "#Use K-nearest Neigbors and Support vectors Machine For classification.Analyze their Performance\n"
      ]
    },
    {
      "cell_type": "code",
      "source": [
        "#IMPORT\n",
        "import pandas as pd  #data manipulation and analysis\n",
        "import numpy as np   #multidimensional array and matrices\n",
        "import seaborn as sns #for drawing graphs and stuff\n",
        "import matplotlib.pyplot as plt #Make changes to the figures using Function like matlab\n",
        "%matplotlib inline \n",
        "#rendering a figure in notebook instead of dump\n",
        "import warnings #warn the developer of situations that may arise in the program\n",
        "warnings.filterwarnings('ignore') #filterwarning is used to set some rules, Ignore attribute is to ignore matching warnings\n",
        "from sklearn.model_selection import train_test_split #sklearn is a machine learning library for different models like regression,etc\n",
        "#train_test_split is used to split the array or matrix used into random train and test data\n",
        "from sklearn.svm import SVC #SVM is a supervised leanrning model ,SVC it is support vector classification\n",
        "from sklearn import metrics #accuracy classification score,basically computes accuracy\n",
        "\n"
      ],
      "metadata": {
        "id": "lIA9vyqrlsfm"
      },
      "execution_count": null,
      "outputs": []
    },
    {
      "cell_type": "code",
      "source": [
        "from google.colab import drive\n",
        "drive.mount('/content/drive')"
      ],
      "metadata": {
        "id": "jcCBH9vqrrcw"
      },
      "execution_count": null,
      "outputs": []
    },
    {
      "cell_type": "code",
      "source": [
        "df=pd.read_csv('/content/drive/MyDrive/ML_dataset/emails.csv')"
      ],
      "metadata": {
        "id": "mDPupbRmsD2N"
      },
      "execution_count": null,
      "outputs": []
    },
    {
      "cell_type": "code",
      "source": [
        "df.head()"
      ],
      "metadata": {
        "id": "kicItgI2t5DL"
      },
      "execution_count": null,
      "outputs": []
    },
    {
      "cell_type": "code",
      "source": [
        "df.columns\n"
      ],
      "metadata": {
        "id": "0PrdlYZFuCuz"
      },
      "execution_count": null,
      "outputs": []
    },
    {
      "cell_type": "code",
      "source": [
        "df.isnull().sum()"
      ],
      "metadata": {
        "id": "-fxQEilquKBP"
      },
      "execution_count": null,
      "outputs": []
    },
    {
      "cell_type": "code",
      "source": [
        "df.dropna(inplace=True)"
      ],
      "metadata": {
        "id": "FM8qHrLOuuGQ"
      },
      "execution_count": null,
      "outputs": []
    },
    {
      "cell_type": "code",
      "source": [
        "df.drop(['Email No.'],axis=1,inplace=True)\n",
        "X=df.drop(['Prediction'],axis=1)\n",
        "y=df['Prediction']\n"
      ],
      "metadata": {
        "id": "s_-mFTNBvAk8"
      },
      "execution_count": null,
      "outputs": []
    },
    {
      "cell_type": "code",
      "source": [
        "from sklearn.preprocessing import scale  #standardize a dataset along any scale \n",
        "x = scale(X)\n"
      ],
      "metadata": {
        "id": "Dp-dd0DJvlTv"
      },
      "execution_count": null,
      "outputs": []
    },
    {
      "cell_type": "code",
      "source": [
        "#split into train and test\n",
        "\n",
        "x_train,x_test,y_train,y_test = train_test_split(x,y,test_size=0.3,random_state = 42)"
      ],
      "metadata": {
        "id": "53zJpl8vwGYQ"
      },
      "execution_count": null,
      "outputs": []
    },
    {
      "cell_type": "code",
      "source": [
        "#KNN classifier\n",
        "from sklearn.neighbors import KNeighborsClassifier\n",
        "knn = KNeighborsClassifier(n_neighbors=7)\n",
        "\n",
        "knn.fit(x_train,y_train)\n",
        "#model is going to be tested --> test variables\n",
        "y_pred = knn.predict(x_test)\n",
        "\n"
      ],
      "metadata": {
        "id": "2cJ04zDDxNVw"
      },
      "execution_count": null,
      "outputs": []
    },
    {
      "cell_type": "code",
      "source": [
        "print(\"Predictions\",y_pred)"
      ],
      "metadata": {
        "id": "FKsMZiMfyyin"
      },
      "execution_count": null,
      "outputs": []
    },
    {
      "cell_type": "code",
      "source": [
        "print(\"KNN accuracy =\",metrics.accuracy_score(y_test,y_pred))"
      ],
      "metadata": {
        "id": "jaFAELj8y8B7"
      },
      "execution_count": null,
      "outputs": []
    },
    {
      "cell_type": "code",
      "source": [
        "print(\"Confusion matrix\",metrics.confusion_matrix(y_test,y_pred)) #a confusion matrix, also known as an error matrix, is a specific table layout that allows visualization of the performance of an algorithm in matrix form"
      ],
      "metadata": {
        "id": "sEhaJSOSzP4g"
      },
      "execution_count": null,
      "outputs": []
    },
    {
      "cell_type": "code",
      "source": [
        "#SVM intialize\n",
        "model= SVC(C=1)\n",
        "\n",
        "#fiting data into model\n",
        "model.fit(x_train,y_train)\n",
        "\n",
        "#predictions\n",
        "y_pred=model.predict(x_test)\n",
        "\n",
        "print(\"SVM accuracy=\",metrics.accuracy_score(y_test,y_pred))\n",
        "\n",
        "print(\"Confusion matrix = \",metrics.confusion_matrix(y_test,y_pred))\n"
      ],
      "metadata": {
        "id": "29SqHSqnzrRT"
      },
      "execution_count": null,
      "outputs": []
    }
  ]
}