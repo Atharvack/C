{
  "nbformat": 4,
  "nbformat_minor": 0,
  "metadata": {
    "colab": {
      "provenance": [],
      "collapsed_sections": []
    },
    "kernelspec": {
      "name": "python3",
      "display_name": "Python 3"
    },
    "language_info": {
      "name": "python"
    }
  },
  "cells": [
    {
      "cell_type": "markdown",
      "source": [
        "Implement Gradient Descent Algortithm to find the local minima of a function."
      ],
      "metadata": {
        "id": "P8_rRSF--ejv"
      }
    },
    {
      "cell_type": "code",
      "execution_count": null,
      "metadata": {
        "id": "yGecMhqa8DgM"
      },
      "outputs": [],
      "source": [
        "cur_x =2 #the algorithm starts at 2\n",
        "rate=0.01  #learning rate\n",
        "precision=0.001 # this tells precision\n",
        "previous_step_size = 1\n",
        "max_iters = 10000\n",
        "iters = 0 #iteration counter\n",
        "df= lambda x: 2*(x+3)\n",
        "\n",
        "\n"
      ]
    },
    {
      "cell_type": "code",
      "source": [
        "while previous_step_size>precision and iters<max_iters:\n",
        "  prev_x = cur_x\n",
        "  cur_x= cur_x - rate * df(prev_x) #gradient descent\n",
        "  previous_step_size = abs(cur_x - prev_x)\n",
        "  iters=iters+1\n",
        "  print(\"iterations\",iters,\"\\n Value is\",cur_x)"
      ],
      "metadata": {
        "id": "OEdXqCKe_tj6"
      },
      "execution_count": null,
      "outputs": []
    }
  ]
}