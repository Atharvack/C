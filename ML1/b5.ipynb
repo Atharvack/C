{
  "nbformat": 4,
  "nbformat_minor": 0,
  "metadata": {
    "colab": {
      "provenance": [],
      "collapsed_sections": []
    },
    "kernelspec": {
      "name": "python3",
      "display_name": "Python 3"
    },
    "language_info": {
      "name": "python"
    }
  },
  "cells": [
    {
      "cell_type": "code",
      "execution_count": null,
      "metadata": {
        "id": "KY-UxGzROISi"
      },
      "outputs": [],
      "source": [
        "#implement K-nearest Neighbours algorithm on diabetes.csvdataset.Compute confusion matrix,accuracy,errorrate,precision and recall on the given dataset\n",
        "\n"
      ]
    },
    {
      "cell_type": "code",
      "source": [
        "import pandas as pd\n",
        "import numpy as np\n",
        "import seaborn as sns\n",
        "import matplotlib.pyplot as plt\n",
        "%matplotlib inline\n",
        "import warnings \n",
        "warnings.filterwarnings('ignore')\n",
        "from sklearn.model_selection import train_test_split\n",
        "from sklearn.svm import SVC\n",
        "from sklearn import metrics\n",
        "from sklearn.preprocessing import scale\n",
        "from sklearn.neighbors import KNeighborsClassifier\n"
      ],
      "metadata": {
        "id": "fqa2Z8RpOTyz"
      },
      "execution_count": null,
      "outputs": []
    },
    {
      "cell_type": "code",
      "source": [
        "df = pd.read_csv('/content/drive/MyDrive/ML_dataset/diabetes.csv')"
      ],
      "metadata": {
        "id": "IZB2B9CqPtYR"
      },
      "execution_count": null,
      "outputs": []
    },
    {
      "cell_type": "code",
      "source": [
        "df.head()"
      ],
      "metadata": {
        "id": "LnnLQUr-QCkK"
      },
      "execution_count": null,
      "outputs": []
    },
    {
      "cell_type": "code",
      "source": [
        "df.columns"
      ],
      "metadata": {
        "id": "IOY0zQpJQG9O"
      },
      "execution_count": null,
      "outputs": []
    },
    {
      "cell_type": "code",
      "source": [
        "df.isnull().sum()"
      ],
      "metadata": {
        "id": "vv_mhUE9QOor"
      },
      "execution_count": null,
      "outputs": []
    },
    {
      "cell_type": "code",
      "source": [
        "X = df.drop(['Outcome'],axis=1)\n",
        "y= df['Outcome']\n",
        "from sklearn.preprocessing import scale\n",
        "X = scale(X)\n",
        "\n",
        "X_train,X_test,y_train,y_test = train_test_split(X,y,test_size=0.3,random_state=42)\n"
      ],
      "metadata": {
        "id": "UADcSvQLQR7x"
      },
      "execution_count": null,
      "outputs": []
    },
    {
      "cell_type": "code",
      "source": [
        "knn = KNeighborsClassifier(n_neighbors=7)\n",
        "knn.fit (X_train,y_train)\n",
        "y_pred = knn.predict(X_test)\n"
      ],
      "metadata": {
        "id": "FewfQ8bAQzeB"
      },
      "execution_count": null,
      "outputs": []
    },
    {
      "cell_type": "code",
      "source": [
        "print(\"Confusion matrix\",metrics.confusion_matrix(y_pred,y_test))"
      ],
      "metadata": {
        "id": "osWePdLASW5q"
      },
      "execution_count": null,
      "outputs": []
    },
    {
      "cell_type": "code",
      "source": [
        "print(\"Accuracy\",metrics.accuracy_score(y_test,y_pred))"
      ],
      "metadata": {
        "id": "L5nYZjJ0ShD-"
      },
      "execution_count": null,
      "outputs": []
    },
    {
      "cell_type": "code",
      "source": [
        "print(\"Error Rate -\",1-metrics.accuracy_score(y_test,y_pred))"
      ],
      "metadata": {
        "id": "_JDI2qKpSqOj"
      },
      "execution_count": null,
      "outputs": []
    },
    {
      "cell_type": "code",
      "source": [
        "print(\"Precision score -->\",metrics.precision_score(y_test,y_pred))"
      ],
      "metadata": {
        "id": "d9wjn1zHTrlo"
      },
      "execution_count": null,
      "outputs": []
    },
    {
      "cell_type": "code",
      "source": [
        "print(\"Recall score\",metrics.recall_score(y_test,y_pred))"
      ],
      "metadata": {
        "id": "1UeiYOl1T0ls"
      },
      "execution_count": null,
      "outputs": []
    },
    {
      "cell_type": "code",
      "source": [
        "print(\"Classification report\",metrics.classification_report(y_test,y_pred))"
      ],
      "metadata": {
        "id": "mDyCDFrqT82e"
      },
      "execution_count": null,
      "outputs": []
    }
  ]
}